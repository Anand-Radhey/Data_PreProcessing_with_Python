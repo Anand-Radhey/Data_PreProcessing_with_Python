{
 "cells": [
  {
   "cell_type": "code",
   "execution_count": 24,
   "metadata": {},
   "outputs": [
    {
     "name": "stdout",
     "output_type": "stream",
     "text": [
      "<class 'pandas.core.frame.DataFrame'>\n",
      "RangeIndex: 768 entries, 0 to 767\n",
      "Data columns (total 9 columns):\n",
      "Pregnancies                 768 non-null int64\n",
      "Glucose                     768 non-null int64\n",
      "BloodPressure               768 non-null int64\n",
      "SkinThickness               768 non-null int64\n",
      "Insulin                     768 non-null int64\n",
      "BMI                         768 non-null float64\n",
      "DiabetesPedigreeFunction    768 non-null float64\n",
      "Age                         768 non-null int64\n",
      "Outcome                     768 non-null int64\n",
      "dtypes: float64(2), int64(7)\n",
      "memory usage: 54.1 KB\n",
      "None\n"
     ]
    }
   ],
   "source": [
    "import pandas as pd\n",
    "headers = ['Pregnancies', 'Glucose', 'BloodPressure', 'SkinThickness', 'Insulin', 'BMI', 'DiabetesPedigreeFunction', 'Age', 'Outcome']\n",
    "pima_df = pd.read_csv('DataSets/pima-indians-diabetes.data.csv',names=headers)\n",
    "print(pima_df.info())"
   ]
  },
  {
   "cell_type": "code",
   "execution_count": 3,
   "metadata": {},
   "outputs": [],
   "source": [
    "from sklearn.model_selection import train_test_split \n",
    "\n",
    "# divide into training and testing data\n",
    "train,test = train_test_split(pima_df, test_size=0.25, random_state=0, stratify=pima_df['Outcome']) \n",
    "\n",
    "# separate the 'Outcome' column from training/testing data\n",
    "train_X = train[train.columns[:8]]\n",
    "test_X = test[test.columns[:8]]\n",
    "train_Y = train['Outcome']\n",
    "test_Y = test['Outcome']"
   ]
  },
  {
   "cell_type": "code",
   "execution_count": 4,
   "metadata": {},
   "outputs": [],
   "source": [
    "#statistical model\n",
    "from sklearn.linear_model import LogisticRegression\n",
    "\n",
    "model = LogisticRegression()\n",
    "model.fit(train_X,train_Y)\n",
    "prediction = model.predict(test_X)"
   ]
  },
  {
   "cell_type": "markdown",
   "metadata": {},
   "source": [
    "**null accuracy**\n",
    "\n",
    "the accuracy that could be achieved by always predicting the most frequent class."
   ]
  },
  {
   "cell_type": "code",
   "execution_count": 9,
   "metadata": {},
   "outputs": [
    {
     "name": "stdout",
     "output_type": "stream",
     "text": [
      "accuracy: 0.7760416666666666\n",
      "null accuracy: 0.6510416666666666\n"
     ]
    }
   ],
   "source": [
    "# calculate accuracy\n",
    "from sklearn import metrics\n",
    "\n",
    "print(\"accuracy: \"+str(metrics.accuracy_score(test_Y, prediction)))\n",
    "\n",
    "the_most_outcome = pima_df['Outcome'].median()\n",
    "prediction2 = [the_most_outcome for i in range(len(test_Y))]\n",
    "print(\"null accuracy: \"+str(metrics.accuracy_score(test_Y, prediction2)))"
   ]
  },
  {
   "cell_type": "markdown",
   "metadata": {},
   "source": [
    "This means that a dumb model that always predicts 0 would be right 65.1% of the time. This shows how classification accuracy might not be the best method to compare different models.\n",
    "\n",
    "Accuracy just tells you the percentage of correct predictions, but it does not tell you what \"types\" of errors your classifier is making. The confusion matrix gives you a more complete picture of how your classifier is performing."
   ]
  },
  {
   "cell_type": "markdown",
   "metadata": {},
   "source": [
    "**Confusion Matrix**"
   ]
  },
  {
   "cell_type": "code",
   "execution_count": 13,
   "metadata": {},
   "outputs": [
    {
     "data": {
      "text/plain": [
       "array([[110,  15],\n",
       "       [ 28,  39]])"
      ]
     },
     "execution_count": 13,
     "metadata": {},
     "output_type": "execute_result"
    }
   ],
   "source": [
    "from sklearn import metrics\n",
    "\n",
    "confusion_matrix = metrics.confusion_matrix(test_Y, prediction)\n",
    "confusion_matrix"
   ]
  },
  {
   "cell_type": "code",
   "execution_count": 15,
   "metadata": {},
   "outputs": [
    {
     "data": {
      "text/plain": [
       "<matplotlib.figure.Figure at 0x105cade50>"
      ]
     },
     "metadata": {},
     "output_type": "display_data"
    },
    {
     "data": {
      "text/plain": [
       "<matplotlib.figure.Figure at 0x1a0db21510>"
      ]
     },
     "metadata": {},
     "output_type": "display_data"
    }
   ],
   "source": [
    "import matplotlib.pyplot as plt\n",
    "plt.figure()\n",
    "plt.matshow(confusion_matrix, cmap='Pastel1')\n",
    "\n",
    "for x in range(0, 2):\n",
    "    for y in range(0, 2):\n",
    "        plt.text(x, y, confusion_matrix[x, y])\n",
    "        \n",
    "plt.ylabel('expected label')\n",
    "plt.xlabel('predicted label')\n",
    "plt.show()"
   ]
  },
  {
   "cell_type": "markdown",
   "metadata": {},
   "source": [
    "For beginners the visual respresentation of the confusion matrix helps a lot. Later on you probably don't need it anymore. We can see the following in the table:\n",
    "\n",
    "0: Person will have diabetes in 5 years<br />\n",
    "1: Person will NOT have diabetes in 5 years\n",
    "\n",
    "**True Positives (TP)**: (39) we correctly predicted that they do have diabetes<br />\n",
    "**True Negatives (TN)**: (110) we correctly predicted that they don't have diabetes<br />\n",
    "**False Positives (FP)**: (28) we incorrectly predicted that they do have diabetes<br />\n",
    "**False Negatives (FN)**: (15) we incorrectly predicted that they don't have diabetes\n",
    "\n",
    "From these values we can calculate the following classification metrics:\n",
    "\n",
    "**Sensitivity** (aka \"True Positive Rate\" or \"Recall\"): When the actual value is positive, how often is the prediction correct?\n",
    "- Something we want to maximize\n",
    "- How \"sensitive\" is the classifier to detecting positive instances?\n",
    "\n",
    "**Specificity**: When the actual value is negative, how often is the prediction correct?\n",
    "- Something we want to maximize\n",
    "- How \"specific\" (or \"selective\") is the classifier in predicting positive instances?\n"
   ]
  },
  {
   "cell_type": "code",
   "execution_count": 16,
   "metadata": {},
   "outputs": [
    {
     "name": "stdout",
     "output_type": "stream",
     "text": [
      "Sensitivity: 0.5821\n",
      "Specificy  : 0.8800\n"
     ]
    }
   ],
   "source": [
    "# [row, column]\n",
    "TP = confusion_matrix[1, 1]\n",
    "TN = confusion_matrix[0, 0]\n",
    "FP = confusion_matrix[0, 1]\n",
    "FN = confusion_matrix[1, 0]\n",
    "\n",
    "print(\"Sensitivity: %.4f\" % (TP / float(TP + FN)))  \n",
    "print(\"Specificy  : %.4f\" % (TN / float(TN + FP)))"
   ]
  },
  {
   "cell_type": "code",
   "execution_count": 19,
   "metadata": {},
   "outputs": [
    {
     "data": {
      "text/plain": [
       "array([[0.66435018, 0.33564982],\n",
       "       [0.82324223, 0.17675777],\n",
       "       [0.7958249 , 0.2041751 ],\n",
       "       [0.83379042, 0.16620958],\n",
       "       [0.80821949, 0.19178051],\n",
       "       [0.51042333, 0.48957667],\n",
       "       [0.3248177 , 0.6751823 ],\n",
       "       [0.78388668, 0.21611332],\n",
       "       [0.45249273, 0.54750727],\n",
       "       [0.65354613, 0.34645387]])"
      ]
     },
     "execution_count": 19,
     "metadata": {},
     "output_type": "execute_result"
    }
   ],
   "source": [
    "# print the first 10 predicted responses\n",
    "# 1D array (vector) of binary values (0, 1)\n",
    "model.predict(test_X)[0:10]\n",
    "\n",
    "# print the first 10 predicted probabilities of class membership\n",
    "model.predict_proba(test_X)[0:10]"
   ]
  },
  {
   "cell_type": "code",
   "execution_count": 20,
   "metadata": {},
   "outputs": [
    {
     "data": {
      "image/png": "[encoded data removed]",
      "text/plain": [
       "<matplotlib.figure.Figure at 0x10757c390>"
      ]
     },
     "metadata": {},
     "output_type": "display_data"
    }
   ],
   "source": [
    "# histogram of predicted probabilities\n",
    "\n",
    "save_predictions_proba = model.predict_proba(test_X)[:, 1]  # column 1\n",
    "\n",
    "plt.hist(save_predictions_proba, bins=10)\n",
    "plt.xlim(0,1) # x-axis limit from 0 to 1\n",
    "plt.title('Histogram of predicted probabilities')\n",
    "plt.xlabel('Predicted probability of diabetes')\n",
    "plt.ylabel('Frequency')\n",
    "plt.show()"
   ]
  },
  {
   "cell_type": "markdown",
   "metadata": {},
   "source": [
    "**Receiver Operating Characteristic (ROC) Curves**\n",
    "\n",
    "Wouldn't it be nice if we could see how sensitivity and specificity are affected by various thresholds, without actually changing the threshold?  We can do that by plotting the ROC curve."
   ]
  },
  {
   "cell_type": "code",
   "execution_count": 21,
   "metadata": {},
   "outputs": [
    {
     "data": {
      "text/plain": [
       "<matplotlib.legend.Legend at 0x1a1186e4d0>"
      ]
     },
     "execution_count": 21,
     "metadata": {},
     "output_type": "execute_result"
    },
    {
     "data": {
      "image/png": "[encoded data removed]",
      "text/plain": [
       "<matplotlib.figure.Figure at 0x1a0e499a90>"
      ]
     },
     "metadata": {},
     "output_type": "display_data"
    }
   ],
   "source": [
    "from sklearn.metrics import roc_curve, auc\n",
    "\n",
    "# function roc_curve\n",
    "# input: IMPORTANT: first argument is true values, second argument is predicted probabilities\n",
    "#                   we do not use y_pred_class, because it will give incorrect results without \n",
    "#                   generating an error\n",
    "# \n",
    "# output: FPR, TPR, thresholds\n",
    "# FPR: false positive rate\n",
    "# TPR: true positive rate\n",
    "FPR, TPR, thresholds = roc_curve(test_Y, save_predictions_proba)\n",
    "\n",
    "plt.figure(figsize=(10,5))  # figsize in inches\n",
    "plt.plot(FPR, TPR)\n",
    "plt.xlim([0.0, 1.0])\n",
    "plt.ylim([0.0, 1.0])\n",
    "plt.plot([0, 1], [0, 1], color='navy', lw=2, linestyle='--')  # 50%  \n",
    "plt.plot(FPR, TPR, lw=2, label='Logaristic Regression (AUC = %0.2f)' % auc(FPR, TPR))\n",
    "plt.title('ROC curve for diabetes classifier')\n",
    "plt.xlabel('False Positive Rate (1 - Specificity)')\n",
    "plt.ylabel('True Positive Rate (Sensitivity)')\n",
    "plt.grid(True)\n",
    "plt.legend(loc=\"lower right\")"
   ]
  },
  {
   "cell_type": "markdown",
   "metadata": {},
   "source": [
    "AUC is the percentage of the ROC plot that is underneath the curve:\n",
    "\n",
    "- AUC is useful as a single number summary of classifier performance, Higher value = better classifier\n",
    "- AUC of 0.5 is like tossing a coin\n",
    "- AUC is useful even when there is high class imbalance (unlike classification accuracy)\n",
    "like in Fraud case with a null accuracy almost 99%\n",
    "\n",
    "A ROC curve can help you to choose a threshold that balances sensitivity and specificity in a way that makes sense for your particular context. You can't actually see the thresholds used to generate the curve on the ROC curve itself. You can use the function and plot below."
   ]
  },
  {
   "cell_type": "code",
   "execution_count": null,
   "metadata": {},
   "outputs": [],
   "source": []
  }
 ],
 "metadata": {
  "kernelspec": {
   "display_name": "Python 2",
   "language": "python",
   "name": "python2"
  },
  "language_info": {
   "codemirror_mode": {
    "name": "ipython",
    "version": 2
   },
   "file_extension": ".py",
   "mimetype": "text/x-python",
   "name": "python",
   "nbconvert_exporter": "python",
   "pygments_lexer": "ipython2",
   "version": "2.7.14"
  }
 },
 "nbformat": 4,
 "nbformat_minor": 2
}
